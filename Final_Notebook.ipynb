{
 "cells": [
  {
   "cell_type": "markdown",
   "id": "e2c594f1",
   "metadata": {},
   "source": [
    "# <div class=\"alert alert-info\" style=\"color:red\">&emsp;&emsp;&emsp;&emsp;EXPLORE Data Science Academy Classification Hackathon\n",
    "</div>"
   ]
  },
  {
   "cell_type": "markdown",
   "id": "c2f1752c",
   "metadata": {},
   "source": [
    "# Sqiniseko Sizwe Gift Nhlenyama"
   ]
  },
  {
   "cell_type": "markdown",
   "id": "7df54428",
   "metadata": {},
   "source": [
    "# Overview\n",
    "South Africa is a multicultural society that is characterised by its rich linguistic diversity. Language is an indispensable tool that can be used to deepen democracy and also contribute to the social, cultural, intellectual, economic and political life of the South African society.\n",
    "\n",
    "The country is multilingual with 11 official languages, each of which is guaranteed equal status. Most South Africans are multilingual and able to speak at least two or more of the official languages.\n",
    "From South African Government"
   ]
  },
  {
   "cell_type": "code",
   "execution_count": 1,
   "id": "45753c0a",
   "metadata": {},
   "outputs": [
    {
     "data": {
      "text/html": [
       "<img src=\"nunu.jpg\" alt=\"alternatetext\">\n"
      ],
      "text/plain": [
       "<IPython.core.display.HTML object>"
      ]
     },
     "metadata": {},
     "output_type": "display_data"
    }
   ],
   "source": [
    "%%html\n",
    "<img src=\"nunu.jpg\" alt=\"alternatetext\">"
   ]
  },
  {
   "cell_type": "markdown",
   "id": "0e3c5397",
   "metadata": {},
   "source": [
    "<a id=\"cont\"></a>\n",
    "\n",
    "## Table of Contents\n",
    "\n",
    "<a href=#one>1. Importing Packages</a>\n",
    "\n",
    "<a href=#two>2. Loading Data</a>\n",
    "\n",
    "<a href=#three>3. Exploratory Data Analysis (EDA)</a>\n",
    "\n",
    "<a href=#four>4. Sentiment Analysis</a>\n",
    "\n",
    "<a href=#five>5. Data Processing and Engineering </a>\n",
    "\n",
    "<a href=#six>6. Featur Engineering </a>\n",
    "\n",
    "<a href=#seven>7.Modeling Building </a>\n",
    "\n",
    "<a href=#eight>8.Model Performance </a>\n",
    "\n",
    "<a href=#nine>9. References</a>\n",
    "\n",
    "<a href=#nine>10. Export</a>\n",
    "\n",
    "<a href=#nine>11. References</a>\n",
    "\n",
    "\n",
    "\n",
    "\n"
   ]
  },
  {
   "cell_type": "markdown",
   "id": "653d3544",
   "metadata": {},
   "source": [
    " <a id=\"one\"></a>\n",
    "## 1. Importing Packages\n",
    "<a href=#cont>Back to Table of Contents</a>\n",
    "\n",
    "\n",
    "| ⚡ Description: Importing Packages ⚡ |\n",
    "| :--------------------------- |\n",
    "| In this section we import the required Classes and libraries that will assist us in the classfication of the data |\n",
    "\n",
    "---"
   ]
  },
  {
   "cell_type": "code",
   "execution_count": 130,
   "id": "16939756",
   "metadata": {},
   "outputs": [
    {
     "name": "stderr",
     "output_type": "stream",
     "text": [
      "[nltk_data] Downloading package stopwords to\n",
      "[nltk_data]     C:\\Users\\F5480264\\AppData\\Roaming\\nltk_data...\n",
      "[nltk_data]   Package stopwords is already up-to-date!\n"
     ]
    }
   ],
   "source": [
    "import numpy as np\n",
    "import pandas as pd\n",
    "import matplotlib.pyplot as plt\n",
    "import re\n",
    "from sklearn import metrics\n",
    "\n",
    "import string \n",
    "import pandas as pd\n",
    "\n",
    "import nltk\n",
    "nltk.download('stopwords')\n",
    "\n",
    "from nltk.corpus import stopwords\n",
    "stop = stopwords.words('english')\n",
    "# Packages for data analysis\n",
    "import numpy as np\n",
    "import pandas as pd\n",
    "from time import time\n",
    "import html    \n",
    "\n",
    "# Packages for visualisations\n",
    "from wordcloud import WordCloud\n",
    "import matplotlib.pyplot as plt\n",
    "%matplotlib inline\n",
    "import seaborn as sns\n",
    "from PIL import Image\n",
    "import time\n",
    "\n",
    "# Packages for preprocessing\n",
    "import re\n",
    "from nltk import word_tokenize\n",
    "from nltk.corpus import stopwords\n",
    "from sklearn.feature_extraction.text import TfidfVectorizer\n",
    "from nltk.probability import FreqDist\n",
    "import emoji\n",
    "from ftfy import fix_text\n",
    "from spellchecker import SpellChecker \n",
    "from nltk.stem.snowball import SnowballStemmer\n",
    "from nltk.sentiment.vader import SentimentIntensityAnalyzer\n",
    "import itertools\n",
    "from sklearn.model_selection import train_test_split\n",
    "from sklearn.utils import resample\n",
    "\n",
    "# Packages for training models\n",
    "from sklearn.pipeline import Pipeline\n",
    "from sklearn.linear_model import LogisticRegression\n",
    "from sklearn.linear_model import SGDClassifier\n",
    "from sklearn.ensemble import AdaBoostClassifier\n",
    "\n",
    "\n",
    "from sklearn.naive_bayes import MultinomialNB,GaussianNB\n",
    "from sklearn.svm import SVC\n",
    "from sklearn.ensemble import RandomForestClassifier\n",
    "from sklearn.neighbors import KNeighborsClassifier\n",
    "from sklearn.neural_network import MLPClassifier\n",
    "from sklearn.naive_bayes import BernoulliNB\n",
    "\n",
    "\n",
    "# Packages for hyperparameter optimisation\n",
    "from sklearn.model_selection import GridSearchCV\n",
    "from sklearn.feature_extraction.text import CountVectorizer\n",
    "# Packages for evaluating model accuracy\n",
    "from sklearn.metrics import f1_score \n",
    "from sklearn.metrics import precision_score\n",
    "from sklearn.metrics import recall_score\n",
    "from sklearn.metrics import confusion_matrix\n",
    "from sklearn.metrics import accuracy_score\n",
    "from sklearn.metrics import classification_report\n",
    "from sklearn.metrics import roc_curve\n",
    "from sklearn.metrics import auc\n",
    "from sklearn.preprocessing import label_binarize\n",
    "from sklearn.svm import LinearSVC, SVC\n",
    "import xgboost as xgb\n",
    "from sklearn.ensemble import GradientBoostingClassifier\n",
    "from sklearn.tree import DecisionTreeClassifier\n",
    "\n",
    "# Packages for saving models\n",
    "import pickle\n",
    "\n",
    "\n",
    "\n"
   ]
  },
  {
   "cell_type": "code",
   "execution_count": null,
   "id": "9b816a94",
   "metadata": {},
   "outputs": [],
   "source": []
  },
  {
   "cell_type": "code",
   "execution_count": 131,
   "id": "68881213",
   "metadata": {},
   "outputs": [],
   "source": [
    "#pip install shap"
   ]
  },
  {
   "cell_type": "markdown",
   "id": "ba855efa",
   "metadata": {},
   "source": [
    "<a id=\"two\"></a>\n",
    "## 2. Loading the Data\n",
    "<a class=\"anchor\" id=\"1.1\"></a>\n",
    "<a href=#cont>Back to Table of Contents</a>\n",
    "\n",
    "---\n",
    "    \n",
    "| ⚡ Description: Loading the data ⚡ |\n",
    "| :--------------------------- |\n",
    "| In this section we are loading the data from the `df_train` and `df_test` file into a DataFrame. |\n",
    "\n",
    "---"
   ]
  },
  {
   "cell_type": "code",
   "execution_count": 132,
   "id": "96d190e1",
   "metadata": {},
   "outputs": [],
   "source": [
    "# Load Data\n",
    "df_train = pd.read_csv('train_set.csv')\n",
    "df_test =pd.read_csv('test_set.csv')"
   ]
  },
  {
   "cell_type": "code",
   "execution_count": 133,
   "id": "4da2553a",
   "metadata": {},
   "outputs": [
    {
     "data": {
      "text/html": [
       "<div>\n",
       "<style scoped>\n",
       "    .dataframe tbody tr th:only-of-type {\n",
       "        vertical-align: middle;\n",
       "    }\n",
       "\n",
       "    .dataframe tbody tr th {\n",
       "        vertical-align: top;\n",
       "    }\n",
       "\n",
       "    .dataframe thead th {\n",
       "        text-align: right;\n",
       "    }\n",
       "</style>\n",
       "<table border=\"1\" class=\"dataframe\">\n",
       "  <thead>\n",
       "    <tr style=\"text-align: right;\">\n",
       "      <th></th>\n",
       "      <th>lang_id</th>\n",
       "      <th>text</th>\n",
       "    </tr>\n",
       "  </thead>\n",
       "  <tbody>\n",
       "    <tr>\n",
       "      <th>0</th>\n",
       "      <td>xho</td>\n",
       "      <td>umgaqo-siseko wenza amalungiselelo kumaziko axhasa ulawulo lwesininzi kunye nokuthath inxaxheba kwabafazi ezi ziquka phakathi kwezinye zazo ikomishoni yokulingana ngokwesini ikomishoni yamalungelo oluntu lomzantsi afrika</td>\n",
       "    </tr>\n",
       "    <tr>\n",
       "      <th>1</th>\n",
       "      <td>xho</td>\n",
       "      <td>i-dha iya kuba nobulumko bokubeka umsebenzi naphi na kwisebe ngokusekwe kwiimfuno zokusebenza zalo emva kokubonana nomsebenzi kunye okanye imanyano yakhe ukuba ulandulo lomntu onjalo alufanelekanga i-dha mayibize uncedo olufanelekileyo elungelweni layo</td>\n",
       "    </tr>\n",
       "    <tr>\n",
       "      <th>2</th>\n",
       "      <td>eng</td>\n",
       "      <td>the province of kwazulu-natal department of transport invites tenders from established contractors experienced in bridge construction for the construction of the kwajolwayo tugela river pedestrian bridge near tugela ferry the duration of the project will be months</td>\n",
       "    </tr>\n",
       "    <tr>\n",
       "      <th>3</th>\n",
       "      <td>nso</td>\n",
       "      <td>o netefatša gore o ba file dilo ka moka tše le dumelelanego ka tšona mohlala maleri a magolo a a šomišwago go fihlelela meagong e metelele scaffolds a a bolokegilego lefelo la maleba la go šomela go phela gabotse bjbj</td>\n",
       "    </tr>\n",
       "    <tr>\n",
       "      <th>4</th>\n",
       "      <td>ven</td>\n",
       "      <td>khomishini ya ndinganyiso ya mbeu yo ewa maana u ya nga mulayo wa khomishini ya ndinganyiso ya mbeu u thetshelesa mbilaelo dzine dza tshimbilelana na tshialula u ya nga mbeu nahone i ivhea sa foramu ya thungo u ya nga mulayo wa ndinganyiso</td>\n",
       "    </tr>\n",
       "    <tr>\n",
       "      <th>5</th>\n",
       "      <td>nso</td>\n",
       "      <td>dinyakišišo tše tša go dirwa gabedi ka ngwaga di tla lebelela diphetogo tša mebaraka ya mešomo le mekgwa ga mmogo le go thapiwa mešomong ka makaleng ao mešomo ao lego molaong le ao a sego molaong le go hloka me omo</td>\n",
       "    </tr>\n",
       "    <tr>\n",
       "      <th>6</th>\n",
       "      <td>tsn</td>\n",
       "      <td>kgetse nngwe le nngwe e e sa faposiwang mo tshekong go ya ka temana ya a e tshwanetse kwa ntle ga fa kgetse e tsholotswe kgotsa e fetiseditswe kwa kgotlatshekelo ya bana ya fetisediwa kwa kgotlatshekelo ya bosiamisi ya ngwana gore a ikarabele mo tatofatsong le go sekiwa ga kgetse go ya ka kgaolo ya</td>\n",
       "    </tr>\n",
       "    <tr>\n",
       "      <th>7</th>\n",
       "      <td>ven</td>\n",
       "      <td>mbadelo dze dza laelwa dzi do kwama mahatulele apo a khothe ya madzhisitirata lihoro line la si vhe na mulandu li do vha lone line la wana masheleni ngeno lihoro le la wanwa mulandu li tshi do vha lone line la tea u lifha ayo masheleni o laelwaho nga khothe</td>\n",
       "    </tr>\n",
       "    <tr>\n",
       "      <th>8</th>\n",
       "      <td>nso</td>\n",
       "      <td>maloko a dikhuduthamaga a ikarabela mongwe le mongwe go tonakgolo le go thteramelao ya profense malebana le taolo ya dipotfolio tša bona mme maloko a mangwe ka moka a khuduthamaga le wona bjalo a ikrabela ka seboka mabapi le phethagatšo ya mediro ya mmušo wa profense le go merero ya wona</td>\n",
       "    </tr>\n",
       "    <tr>\n",
       "      <th>9</th>\n",
       "      <td>tsn</td>\n",
       "      <td>fa le dirisiwa lebone le tshwanetse go bontsha lesedi le le benyabenyang le le bogale jo bo dirang gore le kgone go bonwa ke motho yo o bonang sentle mo leseding le le tlwaelegileng mo sekgaleng sa dimitara di le</td>\n",
       "    </tr>\n",
       "    <tr>\n",
       "      <th>10</th>\n",
       "      <td>nbl</td>\n",
       "      <td>lapho inarha yangeqadi ingenwe ngokungasimthetho begodu kunobujamo obukhethekileko umnikazi wenarha angaya kumasipala wendawo namkha nakutlhogekako emnyangweni wezezindlu ukufna irhelebho nayikuthi unobangela kufuna izindlu</td>\n",
       "    </tr>\n",
       "  </tbody>\n",
       "</table>\n",
       "</div>"
      ],
      "text/plain": [
       "   lang_id  \\\n",
       "0   xho      \n",
       "1   xho      \n",
       "2   eng      \n",
       "3   nso      \n",
       "4   ven      \n",
       "5   nso      \n",
       "6   tsn      \n",
       "7   ven      \n",
       "8   nso      \n",
       "9   tsn      \n",
       "10  nbl      \n",
       "\n",
       "                                                                                                                                                                                                                                                                                                           text  \n",
       "0   umgaqo-siseko wenza amalungiselelo kumaziko axhasa ulawulo lwesininzi kunye nokuthath inxaxheba kwabafazi ezi ziquka phakathi kwezinye zazo ikomishoni yokulingana ngokwesini ikomishoni yamalungelo oluntu lomzantsi afrika                                                                                 \n",
       "1   i-dha iya kuba nobulumko bokubeka umsebenzi naphi na kwisebe ngokusekwe kwiimfuno zokusebenza zalo emva kokubonana nomsebenzi kunye okanye imanyano yakhe ukuba ulandulo lomntu onjalo alufanelekanga i-dha mayibize uncedo olufanelekileyo elungelweni layo                                                 \n",
       "2   the province of kwazulu-natal department of transport invites tenders from established contractors experienced in bridge construction for the construction of the kwajolwayo tugela river pedestrian bridge near tugela ferry the duration of the project will be months                                     \n",
       "3   o netefatša gore o ba file dilo ka moka tše le dumelelanego ka tšona mohlala maleri a magolo a a šomišwago go fihlelela meagong e metelele scaffolds a a bolokegilego lefelo la maleba la go šomela go phela gabotse bjbj                                                                                    \n",
       "4   khomishini ya ndinganyiso ya mbeu yo ewa maana u ya nga mulayo wa khomishini ya ndinganyiso ya mbeu u thetshelesa mbilaelo dzine dza tshimbilelana na tshialula u ya nga mbeu nahone i ivhea sa foramu ya thungo u ya nga mulayo wa ndinganyiso                                                              \n",
       "5   dinyakišišo tše tša go dirwa gabedi ka ngwaga di tla lebelela diphetogo tša mebaraka ya mešomo le mekgwa ga mmogo le go thapiwa mešomong ka makaleng ao mešomo ao lego molaong le ao a sego molaong le go hloka me omo                                                                                       \n",
       "6   kgetse nngwe le nngwe e e sa faposiwang mo tshekong go ya ka temana ya a e tshwanetse kwa ntle ga fa kgetse e tsholotswe kgotsa e fetiseditswe kwa kgotlatshekelo ya bana ya fetisediwa kwa kgotlatshekelo ya bosiamisi ya ngwana gore a ikarabele mo tatofatsong le go sekiwa ga kgetse go ya ka kgaolo ya  \n",
       "7   mbadelo dze dza laelwa dzi do kwama mahatulele apo a khothe ya madzhisitirata lihoro line la si vhe na mulandu li do vha lone line la wana masheleni ngeno lihoro le la wanwa mulandu li tshi do vha lone line la tea u lifha ayo masheleni o laelwaho nga khothe                                            \n",
       "8   maloko a dikhuduthamaga a ikarabela mongwe le mongwe go tonakgolo le go thteramelao ya profense malebana le taolo ya dipotfolio tša bona mme maloko a mangwe ka moka a khuduthamaga le wona bjalo a ikrabela ka seboka mabapi le phethagatšo ya mediro ya mmušo wa profense le go merero ya wona             \n",
       "9   fa le dirisiwa lebone le tshwanetse go bontsha lesedi le le benyabenyang le le bogale jo bo dirang gore le kgone go bonwa ke motho yo o bonang sentle mo leseding le le tlwaelegileng mo sekgaleng sa dimitara di le                                                                                         \n",
       "10  lapho inarha yangeqadi ingenwe ngokungasimthetho begodu kunobujamo obukhethekileko umnikazi wenarha angaya kumasipala wendawo namkha nakutlhogekako emnyangweni wezezindlu ukufna irhelebho nayikuthi unobangela kufuna izindlu                                                                              "
      ]
     },
     "execution_count": 133,
     "metadata": {},
     "output_type": "execute_result"
    }
   ],
   "source": [
    "df_train.head(11)"
   ]
  },
  {
   "cell_type": "markdown",
   "id": "cef3be8b",
   "metadata": {},
   "source": [
    "***The number of Rows and Columns in our dataset***"
   ]
  },
  {
   "cell_type": "code",
   "execution_count": 134,
   "id": "63fdce0b",
   "metadata": {},
   "outputs": [
    {
     "data": {
      "text/plain": [
       "(33000, 2)"
      ]
     },
     "execution_count": 134,
     "metadata": {},
     "output_type": "execute_result"
    }
   ],
   "source": [
    "#Train data shape\n",
    "df_train.shape"
   ]
  },
  {
   "cell_type": "code",
   "execution_count": 135,
   "id": "8d93db84",
   "metadata": {},
   "outputs": [
    {
     "data": {
      "text/plain": [
       "(5682, 2)"
      ]
     },
     "execution_count": 135,
     "metadata": {},
     "output_type": "execute_result"
    }
   ],
   "source": [
    "#Test data shape\n",
    "df_test.shape"
   ]
  },
  {
   "cell_type": "code",
   "execution_count": 136,
   "id": "875e369c",
   "metadata": {},
   "outputs": [
    {
     "name": "stdout",
     "output_type": "stream",
     "text": [
      "object    2\n",
      "dtype: int64\n"
     ]
    }
   ],
   "source": [
    "#find out the number of each datatype in our data \n",
    "print(df_train.dtypes.value_counts())"
   ]
  },
  {
   "cell_type": "markdown",
   "id": "830ce0c8",
   "metadata": {},
   "source": [
    "---\n",
    "We observe that that the respective datasets have ***33000*** and ***5682*** rows respectively\n",
    "\n",
    "---"
   ]
  },
  {
   "cell_type": "code",
   "execution_count": 100,
   "id": "3f2c15ab",
   "metadata": {},
   "outputs": [
    {
     "data": {
      "text/plain": [
       "33000"
      ]
     },
     "execution_count": 100,
     "metadata": {},
     "output_type": "execute_result"
    }
   ],
   "source": [
    "len(df_train)"
   ]
  },
  {
   "cell_type": "code",
   "execution_count": 101,
   "id": "68dd1b8a",
   "metadata": {},
   "outputs": [
    {
     "data": {
      "text/plain": [
       "11"
      ]
     },
     "execution_count": 101,
     "metadata": {},
     "output_type": "execute_result"
    }
   ],
   "source": [
    "len(list(df_train.lang_id.unique()))"
   ]
  },
  {
   "cell_type": "markdown",
   "id": "b3fe3ce0",
   "metadata": {},
   "source": [
    "___We have observed that there are 11 official Languages in the Replublic of South African___"
   ]
  },
  {
   "cell_type": "code",
   "execution_count": 102,
   "id": "f2c336d3",
   "metadata": {},
   "outputs": [
    {
     "name": "stdout",
     "output_type": "stream",
     "text": [
      "['xho', 'eng', 'nso', 'ven', 'tsn', 'nbl', 'zul', 'ssw', 'tso', 'sot', 'afr']\n"
     ]
    }
   ],
   "source": [
    "unique_lang = list(df_train.lang_id.unique())\n",
    "print(unique_lang)"
   ]
  },
  {
   "cell_type": "markdown",
   "id": "24a24149",
   "metadata": {},
   "source": [
    "### Language Description\n",
    "*  **xho :**     Xhosa \n",
    "*  **eng :**     English \n",
    "*  **nso :**     Nsowiki \n",
    "*  **ven :**     Venda  \n",
    "*  **tsn :**     Tswana \n",
    "*  **nbl :**     Ndebele \n",
    "*  **zul :**     IsiZulu \n",
    "*  **ssw :**     Swazi \n",
    "*  **tso :**     Tsonga \n",
    "*  **sot :**     SeSotho \n",
    "*  **afr :**     Afrikaans "
   ]
  },
  {
   "cell_type": "markdown",
   "id": "79215651",
   "metadata": {},
   "source": [
    "---"
   ]
  },
  {
   "cell_type": "code",
   "execution_count": null,
   "id": "874763af",
   "metadata": {},
   "outputs": [],
   "source": []
  },
  {
   "cell_type": "markdown",
   "id": "da05ba30",
   "metadata": {},
   "source": [
    "<a id=\"four\"></a>\n",
    "## 4. Exploratory Data Analysis (EDA)\n",
    "<a class=\"anchor\" id=\"1.1\"></a>\n",
    "<a href=#cont>Back to Table of Contents</a>\n",
    "\n",
    "\n",
    "|  Description: Exploratory data Analysis |\n",
    "| :--------------------------- |\n",
    "| In this section we do sentiment analysis, and possibly create new features - as identified in the EDA phase. |\n",
    "\n",
    "---"
   ]
  },
  {
   "cell_type": "code",
   "execution_count": 103,
   "id": "7958796c",
   "metadata": {},
   "outputs": [
    {
     "name": "stdout",
     "output_type": "stream",
     "text": [
      "<class 'pandas.core.frame.DataFrame'>\n",
      "RangeIndex: 33000 entries, 0 to 32999\n",
      "Data columns (total 2 columns):\n",
      " #   Column   Non-Null Count  Dtype \n",
      "---  ------   --------------  ----- \n",
      " 0   lang_id  33000 non-null  object\n",
      " 1   text     33000 non-null  object\n",
      "dtypes: object(2)\n",
      "memory usage: 515.8+ KB\n"
     ]
    }
   ],
   "source": [
    "df_train.info()"
   ]
  },
  {
   "cell_type": "code",
   "execution_count": 104,
   "id": "70ec48cf",
   "metadata": {},
   "outputs": [
    {
     "data": {
      "text/plain": [
       "xho    3000\n",
       "eng    3000\n",
       "nso    3000\n",
       "ven    3000\n",
       "tsn    3000\n",
       "nbl    3000\n",
       "zul    3000\n",
       "ssw    3000\n",
       "tso    3000\n",
       "sot    3000\n",
       "afr    3000\n",
       "Name: lang_id, dtype: int64"
      ]
     },
     "execution_count": 104,
     "metadata": {},
     "output_type": "execute_result"
    }
   ],
   "source": [
    "df_train.lang_id.value_counts()\n",
    "    "
   ]
  },
  {
   "cell_type": "code",
   "execution_count": 105,
   "id": "b707afa7",
   "metadata": {},
   "outputs": [
    {
     "data": {
      "text/plain": [
       "<AxesSubplot:>"
      ]
     },
     "execution_count": 105,
     "metadata": {},
     "output_type": "execute_result"
    },
    {
     "data": {
      "image/png": "[encoded data removed]",
      "text/plain": [
       "<Figure size 360x360 with 1 Axes>"
      ]
     },
     "metadata": {},
     "output_type": "display_data"
    }
   ],
   "source": [
    "df_train.dtypes.value_counts().plot(kind='pie', ylabel=\"\", figsize=(5,5))"
   ]
  },
  {
   "cell_type": "markdown",
   "id": "6d20f7f3",
   "metadata": {},
   "source": [
    "&emsp;&emsp;&emsp;&emsp;&emsp;&emsp;The entire dataset Consists of Strings/Object dataType"
   ]
  },
  {
   "cell_type": "code",
   "execution_count": 106,
   "id": "bb31c97f",
   "metadata": {},
   "outputs": [
    {
     "name": "stdout",
     "output_type": "stream",
     "text": [
      "lang_id    0\n",
      "text       0\n",
      "dtype: int64\n"
     ]
    }
   ],
   "source": [
    "#checking for possible missing values\n",
    "print(df_train.isnull().sum())\n"
   ]
  },
  {
   "cell_type": "markdown",
   "id": "3d1c1c82",
   "metadata": {},
   "source": [
    "<div class=\"alert alert-warning\" style=\"color:black\">In the given dataset there are no missing values</div>"
   ]
  },
  {
   "cell_type": "code",
   "execution_count": 149,
   "id": "7753f1b6",
   "metadata": {},
   "outputs": [
    {
     "data": {
      "text/html": [
       "<div>\n",
       "<style scoped>\n",
       "    .dataframe tbody tr th:only-of-type {\n",
       "        vertical-align: middle;\n",
       "    }\n",
       "\n",
       "    .dataframe tbody tr th {\n",
       "        vertical-align: top;\n",
       "    }\n",
       "\n",
       "    .dataframe thead th {\n",
       "        text-align: right;\n",
       "    }\n",
       "</style>\n",
       "<table border=\"1\" class=\"dataframe\">\n",
       "  <thead>\n",
       "    <tr style=\"text-align: right;\">\n",
       "      <th></th>\n",
       "      <th>lang_id</th>\n",
       "      <th>text</th>\n",
       "    </tr>\n",
       "  </thead>\n",
       "  <tbody>\n",
       "    <tr>\n",
       "      <th>count</th>\n",
       "      <td>33000</td>\n",
       "      <td>33000</td>\n",
       "    </tr>\n",
       "    <tr>\n",
       "      <th>unique</th>\n",
       "      <td>11</td>\n",
       "      <td>29948</td>\n",
       "    </tr>\n",
       "    <tr>\n",
       "      <th>top</th>\n",
       "      <td>xho</td>\n",
       "      <td>ngokwesekhtjheni yomthetho ophathelene nalokhu unelungelo lokudlulisela isililo sakho kusomkhandlu wezehlalakuhle ngokutlola incwadi uyithumele e-adresini elandelako kungakapheli amalanga amatjhumi alithoba ukusukela mhlazana uthola incwadi le</td>\n",
       "    </tr>\n",
       "    <tr>\n",
       "      <th>freq</th>\n",
       "      <td>3000</td>\n",
       "      <td>17</td>\n",
       "    </tr>\n",
       "  </tbody>\n",
       "</table>\n",
       "</div>"
      ],
      "text/plain": [
       "       lang_id  \\\n",
       "count   33000    \n",
       "unique  11       \n",
       "top     xho      \n",
       "freq    3000     \n",
       "\n",
       "                                                                                                                                                                                                                                                       text  \n",
       "count   33000                                                                                                                                                                                                                                                \n",
       "unique  29948                                                                                                                                                                                                                                                \n",
       "top     ngokwesekhtjheni yomthetho ophathelene nalokhu unelungelo lokudlulisela isililo sakho kusomkhandlu wezehlalakuhle ngokutlola incwadi uyithumele e-adresini elandelako kungakapheli amalanga amatjhumi alithoba ukusukela mhlazana uthola incwadi le  \n",
       "freq    17                                                                                                                                                                                                                                                   "
      ]
     },
     "execution_count": 149,
     "metadata": {},
     "output_type": "execute_result"
    }
   ],
   "source": [
    "df_train.describe()"
   ]
  },
  {
   "cell_type": "markdown",
   "id": "4c7d48a3",
   "metadata": {},
   "source": [
    "The descibe function shows conspiciously that there are a lot of words in the ___Xhosa___ language within our dataset\n",
    "\n",
    "with 11 unique language id's\n",
    "\n",
    "3000 entries for all of the langauges(***Mode***)"
   ]
  },
  {
   "cell_type": "code",
   "execution_count": 108,
   "id": "ef8303d1",
   "metadata": {},
   "outputs": [
    {
     "data": {
      "text/plain": [
       "Text(0.5, 0, 'LANGUAGES')"
      ]
     },
     "execution_count": 108,
     "metadata": {},
     "output_type": "execute_result"
    },
    {
     "data": {
      "image/png": "[encoded data removed]",
      "text/plain": [
       "<Figure size 432x288 with 1 Axes>"
      ]
     },
     "metadata": {},
     "output_type": "display_data"
    }
   ],
   "source": [
    "sns.set_style('whitegrid')\n",
    "df_train['lang_id'].hist(bins=50)\n",
    "plt.xlabel('LANGUAGES')"
   ]
  },
  {
   "cell_type": "markdown",
   "id": "edb0e315",
   "metadata": {},
   "source": [
    "We Have observedd the our dataset is evenly distributed with all langauges have 3000 observations"
   ]
  },
  {
   "cell_type": "markdown",
   "id": "d406c1ee",
   "metadata": {},
   "source": [
    "<a id=\"five\"></a>\n",
    "## 5. Data Processing and Engineering\n",
    "<a class=\"anchor\" id=\"1.1\"></a>\n",
    "<a href=#cont>Back to Table of Contents</a>"
   ]
  },
  {
   "cell_type": "code",
   "execution_count": 109,
   "id": "fb16c4de",
   "metadata": {},
   "outputs": [],
   "source": [
    "#nltk.download()\n"
   ]
  },
  {
   "cell_type": "code",
   "execution_count": 110,
   "id": "61e89feb",
   "metadata": {},
   "outputs": [],
   "source": [
    "#pip install stop-words"
   ]
  },
  {
   "cell_type": "markdown",
   "id": "806459c4",
   "metadata": {},
   "source": [
    "#### <div class=\"alert alert-info\" style=\"color:black\">Looking at our data prior to processing it</div>\n",
    "\n"
   ]
  },
  {
   "cell_type": "code",
   "execution_count": 160,
   "id": "a0c80c03",
   "metadata": {},
   "outputs": [
    {
     "data": {
      "text/plain": [
       "0    umgaqo-siseko wenza amalungiselelo kumaziko axhasa ulawulo lwesininzi kunye nokuthath inxaxheba kwabafazi ezi ziquka phakathi kwezinye zazo ikomishoni yokulingana ngokwesini ikomishoni yamalungelo oluntu lomzantsi afrika                                            \n",
       "1    i-dha iya kuba nobulumko bokubeka umsebenzi naphi na kwisebe ngokusekwe kwiimfuno zokusebenza zalo emva kokubonana nomsebenzi kunye okanye imanyano yakhe ukuba ulandulo lomntu onjalo alufanelekanga i-dha mayibize uncedo olufanelekileyo elungelweni layo            \n",
       "2    the province of kwazulu-natal department of transport invites tenders from established contractors experienced in bridge construction for the construction of the kwajolwayo tugela river pedestrian bridge near tugela ferry the duration of the project will be months\n",
       "3    o netefatša gore o ba file dilo ka moka tše le dumelelanego ka tšona mohlala maleri a magolo a a šomišwago go fihlelela meagong e metelele scaffolds a a bolokegilego lefelo la maleba la go šomela go phela gabotse bjbj                                               \n",
       "4    khomishini ya ndinganyiso ya mbeu yo ewa maana u ya nga mulayo wa khomishini ya ndinganyiso ya mbeu u thetshelesa mbilaelo dzine dza tshimbilelana na tshialula u ya nga mbeu nahone i ivhea sa foramu ya thungo u ya nga mulayo wa ndinganyiso                         \n",
       "Name: text, dtype: object"
      ]
     },
     "execution_count": 160,
     "metadata": {},
     "output_type": "execute_result"
    }
   ],
   "source": [
    "# View Data\n",
    "pd.set_option('display.max_colwidth', 1)      # set to display full text in df\n",
    "df_train['text'].head()"
   ]
  },
  {
   "cell_type": "code",
   "execution_count": 113,
   "id": "76712b1b",
   "metadata": {},
   "outputs": [],
   "source": [
    "def clean_series(text):\n",
    "       return ''.join([l for l in text if l not in string.punctuation])\n"
   ]
  },
  {
   "cell_type": "code",
   "execution_count": 114,
   "id": "3a82d892",
   "metadata": {},
   "outputs": [],
   "source": [
    "# Remove Punctutaion \n",
    "df_train['text'] = df_train['text'].apply(clean_series)\n",
    "df_test['text'] =df_test['text'].apply(clean_series)"
   ]
  },
  {
   "cell_type": "code",
   "execution_count": 115,
   "id": "cda5a11e",
   "metadata": {},
   "outputs": [],
   "source": [
    "#lower strings\n",
    "def clean_num(text):\n",
    "    re.sub(r'http\\S+', '', text)\n",
    "    re.sub(r'\\w+:\\/{2}[\\d\\w-]+(\\.[\\d\\w-]+)*(?:(?:\\/[^\\s/]*))*', '', text)\n",
    "    text = re.sub('[%s]' % re.escape(string.punctuation), '', text)\n",
    "    text = re.sub('\\w*\\d\\w*', '', text)\n",
    "    text = text.lower()\n",
    "    return text"
   ]
  },
  {
   "cell_type": "code",
   "execution_count": 116,
   "id": "63e05ebb",
   "metadata": {},
   "outputs": [],
   "source": [
    "df_train['text'] = df_train['text'].apply(clean_num)\n",
    "df_test =df_test['text'].apply(clean_num)"
   ]
  },
  {
   "cell_type": "markdown",
   "id": "ac61f1db",
   "metadata": {},
   "source": [
    "#### <div class=\"alert alert-info\" style=\"color:black\">We observe if any changes where made to our data set</div>\n"
   ]
  },
  {
   "cell_type": "code",
   "execution_count": 117,
   "id": "743e4bc0",
   "metadata": {},
   "outputs": [
    {
     "data": {
      "text/plain": [
       "0    umgaqosiseko wenza amalungiselelo kumaziko axhasa ulawulo lwesininzi kunye nokuthath inxaxheba kwabafazi ezi ziquka phakathi kwezinye zazo ikomishoni yokulingana ngokwesini ikomishoni yamalungelo oluntu lomzantsi afrika                                            \n",
       "1    idha iya kuba nobulumko bokubeka umsebenzi naphi na kwisebe ngokusekwe kwiimfuno zokusebenza zalo emva kokubonana nomsebenzi kunye okanye imanyano yakhe ukuba ulandulo lomntu onjalo alufanelekanga idha mayibize uncedo olufanelekileyo elungelweni layo             \n",
       "2    the province of kwazulunatal department of transport invites tenders from established contractors experienced in bridge construction for the construction of the kwajolwayo tugela river pedestrian bridge near tugela ferry the duration of the project will be months\n",
       "3    o netefatša gore o ba file dilo ka moka tše le dumelelanego ka tšona mohlala maleri a magolo a a šomišwago go fihlelela meagong e metelele scaffolds a a bolokegilego lefelo la maleba la go šomela go phela gabotse bjbj                                              \n",
       "4    khomishini ya ndinganyiso ya mbeu yo ewa maana u ya nga mulayo wa khomishini ya ndinganyiso ya mbeu u thetshelesa mbilaelo dzine dza tshimbilelana na tshialula u ya nga mbeu nahone i ivhea sa foramu ya thungo u ya nga mulayo wa ndinganyiso                        \n",
       "Name: text, dtype: object"
      ]
     },
     "execution_count": 117,
     "metadata": {},
     "output_type": "execute_result"
    }
   ],
   "source": [
    "# Verify Actions\n",
    "pd.set_option('display.max_colwidth',1)\n",
    "# set to display full text in df\n",
    "df_train['text'].head()\n"
   ]
  },
  {
   "cell_type": "markdown",
   "id": "c33fd4e8",
   "metadata": {},
   "source": [
    "           We have cleaned our data ensuring  we remove all numbers and punctuation within our text \n",
    "           there is a substancial difference compared to out uncleaned data"
   ]
  },
  {
   "cell_type": "markdown",
   "id": "405d93b8",
   "metadata": {},
   "source": [
    "# Recover default matplotlib settings\n",
    "import matplotlib as mpl\n",
    "\n",
    "mpl.rcParams.update(mpl.rcParamsDefault)\n",
    "%matplotlib inline"
   ]
  },
  {
   "cell_type": "markdown",
   "id": "a2be2e19",
   "metadata": {},
   "source": [
    "<a id=\"six\"></a>\n",
    "## 6. Feature Engineering\n",
    "<a class=\"anchor\" id=\"1.1\"></a>\n",
    "<a href=#cont>Back to Table of Contents</a>\n",
    "\n",
    "---\n",
    "    \n",
    "|  Description: Feature Engineering  |\n",
    "| :--------------------------- |\n",
    "| In this section, we create one or more classification models that are able to accurately classify if people believe in climate change or not. |\n",
    "\n",
    "*We will be carrying out Feature Engineering in this section of our notebook. We have highlighted some key points to consider -\n",
    "\n",
    "Why should we use Feature Engineering in data science?\n",
    "\n",
    "Feature Selection/Importance\n",
    "\n",
    "Handling missing values\n",
    "\n",
    "Handling outliers\n",
    "\n",
    "Feature Scaling ### Why engineer? In Data Science, the performance of the model is dependent on data preprocessing and data handling. \n",
    "\n",
    "Suppose if we build a model without Handling data, we got an accuracy of around 70%. By applying the Feature engineering on the same model there is a chance to increase the performance from 70% to more. Simply, by using Feature Engineering we improve the performance of the model\n",
    "\n",
    "---"
   ]
  },
  {
   "cell_type": "markdown",
   "id": "658ebaac",
   "metadata": {},
   "source": [
    "# <div class=\"alert alert-warning\" style=\"color:black\">&emsp;&emsp;&emsp;&emsp;&emsp;&emsp;&emsp;&emsp;&emsp;&emsp;&emsp;&emsp;&emsp;Text Cleaning</div>"
   ]
  },
  {
   "cell_type": "markdown",
   "id": "6cec51bb",
   "metadata": {},
   "source": [
    "<a id=\"seven\"></a>\n",
    "## 7. Modeling building\n",
    "<a class=\"anchor\" id=\"1.1\"></a>\n",
    "<a href=#cont>Back to Table of Contents</a>\n",
    "\n",
    "1. We'll split the data into train and test, to be able to evaluate the model that we build on the train data."
   ]
  },
  {
   "cell_type": "code",
   "execution_count": 137,
   "id": "05109b82",
   "metadata": {},
   "outputs": [],
   "source": [
    "# preparing our training X/text for vectorization\n",
    "X = df_train['text']\n",
    "y = df_train['lang_id']\n"
   ]
  },
  {
   "cell_type": "markdown",
   "id": "6ac31ba6",
   "metadata": {},
   "source": [
    "#### preparing our testing X/text for vectorization"
   ]
  },
  {
   "cell_type": "code",
   "execution_count": 140,
   "id": "a730911e",
   "metadata": {},
   "outputs": [],
   "source": [
    "Xt=df_test['text']"
   ]
  },
  {
   "cell_type": "markdown",
   "id": "0b521890",
   "metadata": {},
   "source": [
    "### process of vectorization"
   ]
  },
  {
   "cell_type": "code",
   "execution_count": 141,
   "id": "812ee2ae",
   "metadata": {},
   "outputs": [],
   "source": [
    "#We then vectorize of text data \n",
    "count_vec = CountVectorizer(min_df=1,max_df=0.9,ngram_range=(1, 2))\n",
    "X_vec = count_vec.fit_transform(X)\n",
    "test_vec = count_vec.fit_transform(Xt)"
   ]
  },
  {
   "cell_type": "markdown",
   "id": "e7f8ce5b",
   "metadata": {},
   "source": [
    "### We will be spliting our test data and training data\n",
    "\n",
    "0.17218 will be allocated testing the rest will be used to trained our models\n",
    "\n",
    "we will be randomly shuffling through the data using 42 as our random state"
   ]
  },
  {
   "cell_type": "code",
   "execution_count": 151,
   "id": "208ecacf",
   "metadata": {},
   "outputs": [],
   "source": [
    "# split data to Train/Test set\n",
    "X_train, X_test, y_train, y_test= train_test_split(X_vec, y, test_size=0.17218, random_state=42)\n"
   ]
  },
  {
   "cell_type": "markdown",
   "id": "78023344",
   "metadata": {},
   "source": [
    "***Training the BernoulliNB Model***"
   ]
  },
  {
   "cell_type": "code",
   "execution_count": 156,
   "id": "cdf5e8dd",
   "metadata": {},
   "outputs": [
    {
     "name": "stdout",
     "output_type": "stream",
     "text": [
      "BernoulliNB()\n",
      "0.9992960225272791\n"
     ]
    }
   ],
   "source": [
    "BernNB = BernoulliNB(alpha=1.0)\n",
    "BernNB.fit(X_train, y_train)\n",
    "print(BernNB)\n",
    "\n",
    "y_expect = y_test\n",
    "y_pred = BernNB.predict(X_test)\n",
    "print(accuracy_score(y_expect, y_pred))\n",
    "\n"
   ]
  },
  {
   "cell_type": "markdown",
   "id": "b6af8790",
   "metadata": {},
   "source": [
    "#### <div class=\"alert alert-info\" style=\"color:black\">Training the ComplementNB Model</div>\n"
   ]
  },
  {
   "cell_type": "code",
   "execution_count": 157,
   "id": "77deec63",
   "metadata": {
    "scrolled": true
   },
   "outputs": [
    {
     "name": "stdout",
     "output_type": "stream",
     "text": [
      "<built-in function print>\n",
      "0.9982400563181978\n"
     ]
    }
   ],
   "source": [
    "from sklearn.naive_bayes import ComplementNB\n",
    "comp = ComplementNB(alpha=0.01)\n",
    "comp.fit(X_train, y_train)\n",
    "print(print)\n",
    "\n",
    "y_expect = y_test\n",
    "y_pred = comp.predict(X_test)\n",
    "print(accuracy_score(y_expect, y_pred))\n"
   ]
  },
  {
   "cell_type": "markdown",
   "id": "2dd5bce1",
   "metadata": {},
   "source": [
    "#### <div class=\"alert alert-info\" style=\"color:black\">Training the MultinomialNB Model</div>"
   ]
  },
  {
   "cell_type": "code",
   "execution_count": 158,
   "id": "3d09f347",
   "metadata": {},
   "outputs": [
    {
     "name": "stdout",
     "output_type": "stream",
     "text": [
      "MultinomialNB(alpha=0.01)\n",
      "0.9989440337909187\n"
     ]
    }
   ],
   "source": [
    "from sklearn.naive_bayes import MultinomialNB, ComplementNB\n",
    "model = MultinomialNB(alpha=0.01,fit_prior=True, class_prior=None)\n",
    "model.fit(X_train, y_train)\n",
    "print(model)\n",
    "\n",
    "y_expect = y_test\n",
    "y_pred = model.predict(X_test)\n",
    "print(accuracy_score(y_expect, y_pred))\n",
    "\n"
   ]
  },
  {
   "cell_type": "markdown",
   "id": "167eecf8",
   "metadata": {},
   "source": [
    "#### <div class=\"alert alert-warning\" style=\"color:black\">Below we train the the StackingClassifier</div>"
   ]
  },
  {
   "cell_type": "code",
   "execution_count": 159,
   "id": "10df4ce2",
   "metadata": {},
   "outputs": [],
   "source": [
    "from sklearn.ensemble import StackingClassifier\n",
    "sc = StackingClassifier(estimators =[('COMPLEMENT', comp),('MultinomialNB', model),\n",
    "                                    ('Bernoulli', BernNB)],\n",
    "    final_estimator= model,\n",
    "    n_jobs=-1,\n",
    "    passthrough=True)"
   ]
  },
  {
   "cell_type": "code",
   "execution_count": null,
   "id": "37a7f9fd",
   "metadata": {},
   "outputs": [],
   "source": [
    "# First features and label \n"
   ]
  },
  {
   "cell_type": "markdown",
   "id": "9583c80d",
   "metadata": {},
   "source": [
    "#### We check the shape of the vectored test data"
   ]
  },
  {
   "cell_type": "code",
   "execution_count": 71,
   "id": "b31ad449",
   "metadata": {},
   "outputs": [
    {
     "data": {
      "text/plain": [
       "(5682, 104003)"
      ]
     },
     "execution_count": 71,
     "metadata": {},
     "output_type": "execute_result"
    }
   ],
   "source": [
    "test_vec.shape\n"
   ]
  },
  {
   "cell_type": "markdown",
   "id": "6040bc6b",
   "metadata": {},
   "source": [
    "<a id=\"seven\"></a>\n",
    "# 8. Model Performance\n",
    "<a class=\"anchor\" id=\"1.1\"></a>\n",
    "<a href=#cont>Back to Table of Contents</a>"
   ]
  },
  {
   "cell_type": "code",
   "execution_count": 147,
   "id": "ce9241e0",
   "metadata": {},
   "outputs": [
    {
     "name": "stdout",
     "output_type": "stream",
     "text": [
      "              precision    recall  f1-score   support\n",
      "\n",
      "         afr       1.00      1.00      1.00       501\n",
      "         eng       1.00      1.00      1.00       534\n",
      "         nbl       1.00      1.00      1.00       520\n",
      "         nso       1.00      1.00      1.00       539\n",
      "         sot       1.00      1.00      1.00       534\n",
      "         ssw       1.00      1.00      1.00       506\n",
      "         tsn       1.00      1.00      1.00       498\n",
      "         tso       1.00      1.00      1.00       482\n",
      "         ven       1.00      1.00      1.00       551\n",
      "         xho       1.00      1.00      1.00       518\n",
      "         zul       1.00      1.00      1.00       499\n",
      "\n",
      "    accuracy                           1.00      5682\n",
      "   macro avg       1.00      1.00      1.00      5682\n",
      "weighted avg       1.00      1.00      1.00      5682\n",
      "\n"
     ]
    }
   ],
   "source": [
    "# Refining the train-test split for validation\n",
    "sc.fit(X_train,y_train)\n",
    "y_pred = sc.predict(X_test)\n",
    "print(classification_report(y_test, y_pred))"
   ]
  },
  {
   "cell_type": "markdown",
   "id": "af638be2",
   "metadata": {},
   "source": [
    "We have used the staked the models and we have observed that the ***MultinomialNB***"
   ]
  },
  {
   "cell_type": "markdown",
   "id": "56436b75",
   "metadata": {},
   "source": [
    "# 9. Conclusion\n"
   ]
  },
  {
   "cell_type": "markdown",
   "id": "758d233d",
   "metadata": {},
   "source": [
    "We have sought to used the ***MultinomialNB*** because it has rendered the best results above 99%"
   ]
  },
  {
   "cell_type": "markdown",
   "id": "a276c64d",
   "metadata": {},
   "source": [
    "# 10. Export"
   ]
  },
  {
   "cell_type": "code",
   "execution_count": 164,
   "id": "0cc92c53",
   "metadata": {},
   "outputs": [],
   "source": [
    "submission_df = pd.DataFrame(df_test['index'])\n",
    "\n",
    "submission_df['lang_id'] = y_pred\n",
    "\n",
    "submission_df.to_csv('FIGHT.csv', index=False)"
   ]
  },
  {
   "cell_type": "markdown",
   "id": "ac102101",
   "metadata": {},
   "source": [
    "# 11. Reference\n",
    "\n",
    "<a href=\"https://athena.explore-datascience.net/\">Athena</a>\n",
    "\n",
    "<a href=\"https://unsplash.com/\">Unsplash</a>\n",
    "\n",
    "<a href=\"https://www.kaggle.com/\">Kaggle</a>\n",
    "\n",
    "<a href=\"https://github.com/\">GitHub</a>\n",
    "\n",
    "\n",
    "\n",
    "\n"
   ]
  },
  {
   "cell_type": "code",
   "execution_count": 166,
   "id": "2f4e826c",
   "metadata": {},
   "outputs": [
    {
     "data": {
      "text/html": [
       "<img src=\"data-science-coding-courses.jpg\" alt=\"alternatetext\">\n"
      ],
      "text/plain": [
       "<IPython.core.display.HTML object>"
      ]
     },
     "metadata": {},
     "output_type": "display_data"
    }
   ],
   "source": [
    "%%html\n",
    "<img src=\"data-science-coding-courses.jpg\" alt=\"alternatetext\">"
   ]
  },
  {
   "cell_type": "code",
   "execution_count": null,
   "id": "6a2cb2c7",
   "metadata": {},
   "outputs": [],
   "source": []
  }
 ],
 "metadata": {
  "kernelspec": {
   "display_name": "Python 3 (ipykernel)",
   "language": "python",
   "name": "python3"
  },
  "language_info": {
   "codemirror_mode": {
    "name": "ipython",
    "version": 3
   },
   "file_extension": ".py",
   "mimetype": "text/x-python",
   "name": "python",
   "nbconvert_exporter": "python",
   "pygments_lexer": "ipython3",
   "version": "3.9.7"
  }
 },
 "nbformat": 4,
 "nbformat_minor": 5
}
